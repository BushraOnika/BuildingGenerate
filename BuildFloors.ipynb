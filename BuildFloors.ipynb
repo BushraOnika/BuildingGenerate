{
 "cells": [
  {
   "cell_type": "code",
   "id": "initial_id",
   "metadata": {
    "collapsed": true,
    "ExecuteTime": {
     "end_time": "2025-04-18T04:20:41.624573Z",
     "start_time": "2025-04-18T04:20:41.609946Z"
    }
   },
   "source": "import random",
   "outputs": [],
   "execution_count": 52
  },
  {
   "metadata": {
    "ExecuteTime": {
     "end_time": "2025-04-18T04:20:41.655847Z",
     "start_time": "2025-04-18T04:20:41.641090Z"
    }
   },
   "cell_type": "code",
   "source": [
    "groundFloors = [1, 2,10]\n",
    "middleFloors = [4, 3,6]\n",
    "roofTop = [5, 7,9]"
   ],
   "id": "d02697275bd422e8",
   "outputs": [],
   "execution_count": 53
  },
  {
   "metadata": {
    "ExecuteTime": {
     "end_time": "2025-04-18T04:20:41.687459Z",
     "start_time": "2025-04-18T04:20:41.673184Z"
    }
   },
   "cell_type": "code",
   "source": [
    "def select_building_floors(ground, middle, top,total_max_middleFloors):\n",
    "    groundFloors_index = random.randint(0, len(ground) - 1)\n",
    "    middleFloors_index = random.randint(0, len(middle) - 1)\n",
    "    roofTop_index = random.randint(0, len(top) - 1)\n",
    "    total_middle_floors = random.randint(0, total_max_middleFloors)\n",
    "    return groundFloors_index, middleFloors_index, roofTop_index, total_middle_floors"
   ],
   "id": "1fcbfea5b4c6308a",
   "outputs": [],
   "execution_count": 54
  },
  {
   "metadata": {
    "ExecuteTime": {
     "end_time": "2025-04-18T04:20:41.717813Z",
     "start_time": "2025-04-18T04:20:41.706505Z"
    }
   },
   "cell_type": "code",
   "source": "select_building_floors(groundFloors,middleFloors,roofTop,5)",
   "id": "93bae3891a83ace7",
   "outputs": [
    {
     "data": {
      "text/plain": [
       "(1, 0, 0, 1)"
      ]
     },
     "execution_count": 55,
     "metadata": {},
     "output_type": "execute_result"
    }
   ],
   "execution_count": 55
  },
  {
   "metadata": {
    "ExecuteTime": {
     "end_time": "2025-04-18T04:20:41.765703Z",
     "start_time": "2025-04-18T04:20:41.748354Z"
    }
   },
   "cell_type": "code",
   "source": [
    "def print_building_structure(groundFloors,middleFloors,roofTop,total_max_middleFloors):\n",
    "    groundFloor_index, middleFloor_index, roofTop_index, total_middle_floors = select_building_floors(groundFloors,middleFloors,roofTop,total_max_middleFloors)\n",
    "    print(f\"Selected groundfloor index:{groundFloor_index}\")\n",
    "    for i in range(total_middle_floors):\n",
    "        print(f\"Selected middlefloor index:{middleFloor_index}\")\n",
    "    print(f\"Selected RoofTop index:{roofTop_index}\")"
   ],
   "id": "e85d93ced48e9eb0",
   "outputs": [],
   "execution_count": 56
  },
  {
   "metadata": {
    "ExecuteTime": {
     "end_time": "2025-04-18T04:25:03.158199Z",
     "start_time": "2025-04-18T04:25:03.139107Z"
    }
   },
   "cell_type": "code",
   "source": "print_building_structure(groundFloors,middleFloors,roofTop,10)",
   "id": "46c9515fbd2faa4c",
   "outputs": [
    {
     "name": "stdout",
     "output_type": "stream",
     "text": [
      "Selected groundfloor index:0\n",
      "Selected middlefloor index:2\n",
      "Selected middlefloor index:2\n",
      "Selected middlefloor index:2\n",
      "Selected middlefloor index:2\n",
      "Selected middlefloor index:2\n",
      "Selected RoofTop index:1\n"
     ]
    }
   ],
   "execution_count": 62
  },
  {
   "metadata": {
    "ExecuteTime": {
     "end_time": "2025-04-18T04:20:41.906372Z",
     "start_time": "2025-04-18T04:20:41.896864Z"
    }
   },
   "cell_type": "code",
   "source": [
    "def total_random_buldings_in_a_area(max_total_buildings,groundFloors,middleFloors,roofTop,total_max_middleFloors):\n",
    "    for building in range(max_total_buildings):\n",
    "        print_building_structure(groundFloors,middleFloors,roofTop,total_max_middleFloors)\n",
    "\n",
    "\n"
   ],
   "id": "8f541e2655df78b2",
   "outputs": [],
   "execution_count": 58
  },
  {
   "metadata": {
    "ExecuteTime": {
     "end_time": "2025-04-18T04:22:12.009892Z",
     "start_time": "2025-04-18T04:22:11.998636Z"
    }
   },
   "cell_type": "code",
   "source": "total_random_buldings_in_a_area(5,groundFloors,middleFloors,roofTop,5)",
   "id": "28836c1d5dada0ec",
   "outputs": [
    {
     "name": "stdout",
     "output_type": "stream",
     "text": [
      "Selected groundfloor index:2\n",
      "Selected middlefloor index:0\n",
      "Selected RoofTop index:2\n",
      "Selected groundfloor index:0\n",
      "Selected middlefloor index:1\n",
      "Selected middlefloor index:1\n",
      "Selected middlefloor index:1\n",
      "Selected middlefloor index:1\n",
      "Selected middlefloor index:1\n",
      "Selected RoofTop index:2\n",
      "Selected groundfloor index:1\n",
      "Selected middlefloor index:0\n",
      "Selected middlefloor index:0\n",
      "Selected middlefloor index:0\n",
      "Selected middlefloor index:0\n",
      "Selected RoofTop index:2\n",
      "Selected groundfloor index:1\n",
      "Selected middlefloor index:0\n",
      "Selected middlefloor index:0\n",
      "Selected middlefloor index:0\n",
      "Selected middlefloor index:0\n",
      "Selected middlefloor index:0\n",
      "Selected RoofTop index:0\n",
      "Selected groundfloor index:1\n",
      "Selected middlefloor index:2\n",
      "Selected middlefloor index:2\n",
      "Selected middlefloor index:2\n",
      "Selected RoofTop index:1\n"
     ]
    }
   ],
   "execution_count": 60
  }
 ],
 "metadata": {
  "kernelspec": {
   "display_name": "Python 3",
   "language": "python",
   "name": "python3"
  },
  "language_info": {
   "codemirror_mode": {
    "name": "ipython",
    "version": 2
   },
   "file_extension": ".py",
   "mimetype": "text/x-python",
   "name": "python",
   "nbconvert_exporter": "python",
   "pygments_lexer": "ipython2",
   "version": "2.7.6"
  }
 },
 "nbformat": 4,
 "nbformat_minor": 5
}
