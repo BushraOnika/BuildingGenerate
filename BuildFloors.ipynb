{
 "cells": [
  {
   "cell_type": "code",
   "id": "initial_id",
   "metadata": {
    "collapsed": true,
    "ExecuteTime": {
     "end_time": "2025-04-17T15:41:36.573180Z",
     "start_time": "2025-04-17T15:41:36.557521Z"
    }
   },
   "source": [
    "import numpy as np\n",
    "import random"
   ],
   "outputs": [],
   "execution_count": 38
  },
  {
   "metadata": {
    "ExecuteTime": {
     "end_time": "2025-04-17T15:41:36.620955Z",
     "start_time": "2025-04-17T15:41:36.604825Z"
    }
   },
   "cell_type": "code",
   "source": "gf = [1,2]",
   "id": "d02697275bd422e8",
   "outputs": [],
   "execution_count": 39
  },
  {
   "metadata": {
    "ExecuteTime": {
     "end_time": "2025-04-17T15:41:36.636248Z",
     "start_time": "2025-04-17T15:41:36.626117Z"
    }
   },
   "cell_type": "code",
   "source": "middleFloors=[4,3]",
   "id": "1fcbfea5b4c6308a",
   "outputs": [],
   "execution_count": 40
  },
  {
   "metadata": {
    "ExecuteTime": {
     "end_time": "2025-04-17T15:41:36.668298Z",
     "start_time": "2025-04-17T15:41:36.652344Z"
    }
   },
   "cell_type": "code",
   "source": "gfs=random.choice(gf)",
   "id": "6fed0016ea5077de",
   "outputs": [],
   "execution_count": 41
  },
  {
   "metadata": {
    "ExecuteTime": {
     "end_time": "2025-04-17T15:41:36.702328Z",
     "start_time": "2025-04-17T15:41:36.686613Z"
    }
   },
   "cell_type": "code",
   "source": [
    "for mf in range(len(middleFloors)):\n",
    "    print(gfs,random.choice(middleFloors))"
   ],
   "id": "e85d93ced48e9eb0",
   "outputs": [
    {
     "name": "stdout",
     "output_type": "stream",
     "text": [
      "2 4\n",
      "2 4\n"
     ]
    }
   ],
   "execution_count": 42
  },
  {
   "metadata": {
    "ExecuteTime": {
     "end_time": "2025-04-17T15:41:36.734018Z",
     "start_time": "2025-04-17T15:41:36.718368Z"
    }
   },
   "cell_type": "code",
   "source": "",
   "id": "8f541e2655df78b2",
   "outputs": [],
   "execution_count": null
  }
 ],
 "metadata": {
  "kernelspec": {
   "display_name": "Python 3",
   "language": "python",
   "name": "python3"
  },
  "language_info": {
   "codemirror_mode": {
    "name": "ipython",
    "version": 2
   },
   "file_extension": ".py",
   "mimetype": "text/x-python",
   "name": "python",
   "nbconvert_exporter": "python",
   "pygments_lexer": "ipython2",
   "version": "2.7.6"
  }
 },
 "nbformat": 4,
 "nbformat_minor": 5
}
